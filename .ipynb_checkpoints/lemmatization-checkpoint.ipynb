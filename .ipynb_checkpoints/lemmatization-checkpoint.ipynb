{
 "cells": [
  {
   "cell_type": "markdown",
   "id": "7904eccc-a900-4c9a-823f-502f1d6188a2",
   "metadata": {},
   "source": [
    "Lemmatization is very similiar to stemming in that it reduces a set of inflected words down to a common word. The difference is that lemmatization reduces inflections down to their real root words, which is called a lemma. If we take the words 'amaze', 'amazing', 'amazingly', the lemma of all of these is 'amaze'. Compared to stemming which would usually return 'amaz'. Generally lemmatization is seen as more advanced than stemming."
   ]
  },
  {
   "cell_type": "code",
   "execution_count": 1,
   "id": "7db77942-da7d-4a60-8854-df746cad26c8",
   "metadata": {},
   "outputs": [],
   "source": [
    "words = ['amaze', 'amazed', 'amazing']"
   ]
  },
  {
   "cell_type": "code",
   "execution_count": 7,
   "id": "308c9861-36b5-440e-93d8-071170d6f9b5",
   "metadata": {},
   "outputs": [
    {
     "name": "stderr",
     "output_type": "stream",
     "text": [
      "[nltk_data] Downloading package wordnet to\n",
      "[nltk_data]     C:\\Users\\Raqwan\\AppData\\Roaming\\nltk_data...\n",
      "[nltk_data]   Package wordnet is already up-to-date!\n",
      "[nltk_data] Downloading package omw-1.4 to\n",
      "[nltk_data]     C:\\Users\\Raqwan\\AppData\\Roaming\\nltk_data...\n"
     ]
    },
    {
     "data": {
      "text/plain": [
       "True"
      ]
     },
     "execution_count": 7,
     "metadata": {},
     "output_type": "execute_result"
    }
   ],
   "source": [
    "from nltk.stem import WordNetLemmatizer\n",
    "from nltk.corpus import wordnet\n",
    "\n",
    "# kayanya versi terbaru harus download dlu\n",
    "\n",
    "import nltk \n",
    "nltk.download('wordnet')\n",
    "nltk.download('omw-1.4')"
   ]
  },
  {
   "cell_type": "code",
   "execution_count": 8,
   "id": "5166b00a-9f86-418f-b4d6-fef7651e12e0",
   "metadata": {},
   "outputs": [
    {
     "data": {
      "text/plain": [
       "['amaze', 'amazed', 'amazing']"
      ]
     },
     "execution_count": 8,
     "metadata": {},
     "output_type": "execute_result"
    }
   ],
   "source": [
    "lemmatizer = WordNetLemmatizer()\n",
    "[lemmatizer.lemmatize(word) for word in words]"
   ]
  },
  {
   "cell_type": "markdown",
   "id": "582e6d51-a7c7-4279-a9bc-36020b7bb25b",
   "metadata": {},
   "source": [
    "Clearly nothing has happened, and that is because lemmatization requires that we also provide the parts-of-speech (POS) tag, which is the category of a word based on syntax. For example noun, adjective, or verb. In our case we could place each word as a verb, which we can then implement like so:"
   ]
  },
  {
   "cell_type": "code",
   "execution_count": 9,
   "id": "97a9b38d-5e8b-4827-8ec8-2b3c074fe741",
   "metadata": {},
   "outputs": [
    {
     "data": {
      "text/plain": [
       "['amaze', 'amaze', 'amaze']"
      ]
     },
     "execution_count": 9,
     "metadata": {},
     "output_type": "execute_result"
    }
   ],
   "source": [
    "[lemmatizer.lemmatize(word, wordnet.VERB) for word in words]"
   ]
  },
  {
   "cell_type": "code",
   "execution_count": null,
   "id": "f7e4d6cd-3952-4dda-9626-f325c062ccfb",
   "metadata": {},
   "outputs": [],
   "source": []
  }
 ],
 "metadata": {
  "kernelspec": {
   "display_name": "Python 3 (ipykernel)",
   "language": "python",
   "name": "python3"
  },
  "language_info": {
   "codemirror_mode": {
    "name": "ipython",
    "version": 3
   },
   "file_extension": ".py",
   "mimetype": "text/x-python",
   "name": "python",
   "nbconvert_exporter": "python",
   "pygments_lexer": "ipython3",
   "version": "3.9.13"
  }
 },
 "nbformat": 4,
 "nbformat_minor": 5
}
