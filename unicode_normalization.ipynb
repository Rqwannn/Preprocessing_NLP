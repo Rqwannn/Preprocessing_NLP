{
 "cells": [
  {
   "cell_type": "markdown",
   "id": "6a7ce337-51ea-4f18-8c33-b81e7a6a1730",
   "metadata": {},
   "source": [
    "Jadi kita wajib melakukan normalisasi sebagai berikut dimana text itu berupa sama tetapi format yang berbeda yang akan mempengaruhi kinerja model jadi dengan demikian lakukan normalisasi sebelum procces model"
   ]
  },
  {
   "cell_type": "markdown",
   "id": "08e3773c-1853-4e25-a827-a215fc74dd7f",
   "metadata": {},
   "source": [
    "# Chanotical Equivalence\n",
    "\n",
    "* Ç\t C◌̧, Combined character sequences\n",
    "* 가\tᄀ ᅡ, Conjoined Korean characters"
   ]
  },
  {
   "cell_type": "code",
   "execution_count": 6,
   "id": "7fda4952-0ff0-43c2-b829-de59dded7e01",
   "metadata": {},
   "outputs": [
    {
     "name": "stdout",
     "output_type": "stream",
     "text": [
      "Ç\n"
     ]
    }
   ],
   "source": [
    "print(\"\\u00C7\")"
   ]
  },
  {
   "cell_type": "code",
   "execution_count": 10,
   "id": "b8fd8f08-fd5a-4f1e-a7ff-996c0d2e7f40",
   "metadata": {},
   "outputs": [
    {
     "data": {
      "text/plain": [
       "True"
      ]
     },
     "execution_count": 10,
     "metadata": {},
     "output_type": "execute_result"
    }
   ],
   "source": [
    "\"Ç\" == \"\\u00C7\""
   ]
  },
  {
   "cell_type": "code",
   "execution_count": 8,
   "id": "4c5398dc-dbb5-4a3c-9cda-bfcc9941c146",
   "metadata": {},
   "outputs": [
    {
     "data": {
      "text/plain": [
       "False"
      ]
     },
     "execution_count": 8,
     "metadata": {},
     "output_type": "execute_result"
    }
   ],
   "source": [
    "\"Ç\" == \"Ç\""
   ]
  },
  {
   "cell_type": "markdown",
   "id": "a7a4516f-0e33-4de3-b1df-ca8b9ced8027",
   "metadata": {},
   "source": [
    "# Compatibility equivalence\n",
    "\n",
    "* ℌ\tH\tFont variant\n",
    "* [NBSP]\t[SPACE]\tBoth are linebreak sequences\n",
    "* ①\t1\tCircled variant\n",
    "* x²\tx2\tSuperscript\n",
    "* xⱼ\txj\tSubscript\n",
    "* ½\t1/2\tFractions"
   ]
  },
  {
   "cell_type": "code",
   "execution_count": 4,
   "id": "c02886e8-605c-4f79-b958-58cfd5b85e42",
   "metadata": {},
   "outputs": [
    {
     "data": {
      "text/plain": [
       "False"
      ]
     },
     "execution_count": 4,
     "metadata": {},
     "output_type": "execute_result"
    }
   ],
   "source": [
    "\"ℌ\" == \"H\""
   ]
  },
  {
   "cell_type": "code",
   "execution_count": 5,
   "id": "1e5f8870-9096-4049-99e9-d3f793dfd868",
   "metadata": {},
   "outputs": [
    {
     "data": {
      "text/plain": [
       "False"
      ]
     },
     "execution_count": 5,
     "metadata": {},
     "output_type": "execute_result"
    }
   ],
   "source": [
    "\"½\" == \"1⁄2\"  # note that 1⁄2 are the characters 1 ⁄ 2 placed together (they are automatically formatted)"
   ]
  },
  {
   "cell_type": "markdown",
   "id": "6ae0f0e6-4c29-43d3-8292-9672d5e9b9b1",
   "metadata": {},
   "source": [
    "# Decomposition and Composition \n",
    "\n",
    "Normal Form :\n",
    "\n",
    "  Name    | Abbreviation | Description | Example\n",
    "\n",
    "* Form D  | NFD  | Canonical decomposition                                       | Ç → C ̧\n",
    "* Form C  | NFC  | Canoncial decomposition followed by canonical composition     | Ç → C ̧ → Ç\n",
    "* Form KD | NFKD | Compatibility decomposition                                   | ℌ ̧ → H ̧\n",
    "* Form KC | NFKC | Compatibility decomposition followed by canonical composition | ℌ ̧ → H ̧ → Ḩ"
   ]
  },
  {
   "cell_type": "markdown",
   "id": "e7e607d0-44c6-4888-af25-af30ac44d635",
   "metadata": {},
   "source": [
    "# NFD and NFC"
   ]
  },
  {
   "cell_type": "code",
   "execution_count": 11,
   "id": "d36ef708-37b8-4684-9584-ded99495becd",
   "metadata": {},
   "outputs": [],
   "source": [
    "import unicodedata"
   ]
  },
  {
   "cell_type": "code",
   "execution_count": 12,
   "id": "3fb4fd16-de73-44ba-9040-66a45a055afa",
   "metadata": {},
   "outputs": [
    {
     "data": {
      "text/plain": [
       "'Ç'"
      ]
     },
     "execution_count": 12,
     "metadata": {},
     "output_type": "execute_result"
    }
   ],
   "source": [
    "c_with_cedilla = \"\\u00C7\"  # Latin capital C with cedilla (single character)\n",
    "c_with_cedilla"
   ]
  },
  {
   "cell_type": "code",
   "execution_count": 18,
   "id": "5196ca19-37a5-49df-8073-11d3be746390",
   "metadata": {},
   "outputs": [
    {
     "data": {
      "text/plain": [
       "'Ç'"
      ]
     },
     "execution_count": 18,
     "metadata": {},
     "output_type": "execute_result"
    }
   ],
   "source": [
    "c_plus_cedilla = \"\\u0043\\u0327\"  # \\u0043 = Latin capital C, \\u0327 = 'combining cedilla' (two characters)\n",
    "c_plus_cedilla"
   ]
  },
  {
   "cell_type": "code",
   "execution_count": 19,
   "id": "f090f4d1-e8de-4b82-af52-303fa5c99a91",
   "metadata": {},
   "outputs": [
    {
     "data": {
      "text/plain": [
       "False"
      ]
     },
     "execution_count": 19,
     "metadata": {},
     "output_type": "execute_result"
    }
   ],
   "source": [
    "# And we will find that these two version do not match when compared:\n",
    "\n",
    "c_with_cedilla == c_plus_cedilla # deferent format but same 'Ç'"
   ]
  },
  {
   "cell_type": "markdown",
   "id": "0a1be0e4-116e-4db6-8875-cee46875a014",
   "metadata": {},
   "source": [
    "If we perform NFD on our C with cedilla character \\u00C7, we decompose the character into it's smaller components, which are the Latin capital C character, and combining cedilla character \\u0043 + \\u0327. This means that if we compare an NFD normalized C with cedilla character to both the C character and the cedilla character, we will return true:"
   ]
  },
  {
   "cell_type": "code",
   "execution_count": 20,
   "id": "d0d863ba-692d-42d8-b860-aae150e49419",
   "metadata": {},
   "outputs": [
    {
     "data": {
      "text/plain": [
       "'Ç'"
      ]
     },
     "execution_count": 21,
     "metadata": {},
     "output_type": "execute_result"
    }
   ],
   "source": [
    "unicodedata.normalize('NFD', c_with_cedilla) == c_plus_cedilla"
   ]
  },
  {
   "cell_type": "markdown",
   "id": "168b17e4-d891-4dec-bc9b-01c1d7d79816",
   "metadata": {},
   "source": [
    "However, if we perform NFC on our C with cedilla character \\u00C7, we decompose the character into the smaller components \\u0043 + \\u0327, and then compose them back to \\u00C7, and so they will not match:"
   ]
  },
  {
   "cell_type": "code",
   "execution_count": 22,
   "id": "fd662fb8-7a39-4a75-a99a-129186ff8517",
   "metadata": {},
   "outputs": [
    {
     "data": {
      "text/plain": [
       "False"
      ]
     },
     "execution_count": 22,
     "metadata": {},
     "output_type": "execute_result"
    }
   ],
   "source": [
    "# akan di decompose jadi \\u00C7 => \\u0043\\u0327 tetapi akan di decompose ulang menadi \\u00C7 formatnya walaupun akan mengembalikan text yang sama  pada akhirnya\n",
    "\n",
    "unicodedata.normalize('NFC', c_with_cedilla) == c_plus_cedilla"
   ]
  },
  {
   "cell_type": "markdown",
   "id": "fa2f9487-779b-40d1-b7f0-cf4704aa0a83",
   "metadata": {},
   "source": [
    "But if we switch the NFC encoding to instead be performed on our two characters \\u0043 + \\u0327, they will first be decomposed (which will do nothing as they are already decomposed), then compose them into the single \\u00C7 character:"
   ]
  },
  {
   "cell_type": "code",
   "execution_count": 23,
   "id": "cc6189ae-68a6-4fd1-bbe9-630f2907cfc0",
   "metadata": {},
   "outputs": [
    {
     "data": {
      "text/plain": [
       "True"
      ]
     },
     "execution_count": 23,
     "metadata": {},
     "output_type": "execute_result"
    }
   ],
   "source": [
    "# akan di decompose jadi \\u00C7 formatnya walaupun akan mengembalikan text yang sama  pada akhirnya\n",
    "\n",
    "c_with_cedilla == unicodedata.normalize('NFC', c_plus_cedilla)"
   ]
  },
  {
   "cell_type": "markdown",
   "id": "fcaee327-5e71-4f55-a589-358225079552",
   "metadata": {},
   "source": [
    "# NFKD and NFKC"
   ]
  },
  {
   "cell_type": "code",
   "execution_count": 24,
   "id": "87068595-ddd5-442b-ba51-d9f0de2474c8",
   "metadata": {},
   "outputs": [
    {
     "data": {
      "text/plain": [
       "False"
      ]
     },
     "execution_count": 24,
     "metadata": {},
     "output_type": "execute_result"
    }
   ],
   "source": [
    "\"ℌ\" == \"H\""
   ]
  },
  {
   "cell_type": "code",
   "execution_count": 29,
   "id": "5cfa39bb-71f1-43c0-ba0a-37d40fe8915d",
   "metadata": {},
   "outputs": [
    {
     "data": {
      "text/plain": [
       "'ℌ'"
      ]
     },
     "execution_count": 29,
     "metadata": {},
     "output_type": "execute_result"
    }
   ],
   "source": [
    "# akan di decompose jadi \\u0043\\u0327 formatnya walaupun akan mengembalikan text yang sama pada akhirnya\n",
    "\n",
    "unicodedata.normalize('NFD', \"ℌ\") "
   ]
  },
  {
   "cell_type": "code",
   "execution_count": 30,
   "id": "46b0343c-de9c-4782-ac0c-b74ddb1e33fa",
   "metadata": {},
   "outputs": [
    {
     "data": {
      "text/plain": [
       "'H'"
      ]
     },
     "execution_count": 30,
     "metadata": {},
     "output_type": "execute_result"
    }
   ],
   "source": [
    "unicodedata.normalize('NFKD', 'ℌ') # penjelasan ada di Decomposition and Composition "
   ]
  },
  {
   "cell_type": "code",
   "execution_count": 31,
   "id": "c75b4e85-ded1-44a1-81e1-43a87a176bf3",
   "metadata": {},
   "outputs": [
    {
     "data": {
      "text/plain": [
       "'ℋ̧'"
      ]
     },
     "execution_count": 31,
     "metadata": {},
     "output_type": "execute_result"
    }
   ],
   "source": [
    "fancy_h_with_caddila = \"\\u210B\\u0327\"\n",
    "fancy_h_with_caddila"
   ]
  },
  {
   "cell_type": "code",
   "execution_count": 35,
   "id": "0ab5b458-189b-4dd1-bbf7-5a781f25effa",
   "metadata": {},
   "outputs": [
    {
     "data": {
      "text/plain": [
       "'Ḩ'"
      ]
     },
     "execution_count": 35,
     "metadata": {},
     "output_type": "execute_result"
    }
   ],
   "source": [
    "h_with_caddila = \"\\u1e28\"\n",
    "h_with_caddila"
   ]
  },
  {
   "cell_type": "code",
   "execution_count": 38,
   "id": "f95eb1a7-2d43-49a3-900a-ba5c9292e615",
   "metadata": {},
   "outputs": [
    {
     "data": {
      "text/plain": [
       "True"
      ]
     },
     "execution_count": 38,
     "metadata": {},
     "output_type": "execute_result"
    }
   ],
   "source": [
    "unicodedata.normalize('NFKC', fancy_h_with_caddila) == h_with_caddila"
   ]
  },
  {
   "cell_type": "code",
   "execution_count": 33,
   "id": "60c93be6-15ec-4e0b-b988-674c192e91dc",
   "metadata": {},
   "outputs": [
    {
     "data": {
      "text/plain": [
       "'Ḩ'"
      ]
     },
     "execution_count": 33,
     "metadata": {},
     "output_type": "execute_result"
    }
   ],
   "source": [
    "unicodedata.normalize('NFKC', fancy_h_with_caddila)"
   ]
  },
  {
   "cell_type": "code",
   "execution_count": 34,
   "id": "15e7af81-28d2-4513-b011-d43866520edd",
   "metadata": {},
   "outputs": [
    {
     "data": {
      "text/plain": [
       "b'\\xe1\\xb8\\xa8'"
      ]
     },
     "execution_count": 34,
     "metadata": {},
     "output_type": "execute_result"
    }
   ],
   "source": [
    "unicodedata.normalize('NFKC', fancy_h_with_caddila).encode('utf-8')"
   ]
  },
  {
   "cell_type": "code",
   "execution_count": null,
   "id": "1d34d083-cbc1-45ed-b91a-c283a9d0b472",
   "metadata": {},
   "outputs": [],
   "source": []
  }
 ],
 "metadata": {
  "kernelspec": {
   "display_name": "Python 3 (ipykernel)",
   "language": "python",
   "name": "python3"
  },
  "language_info": {
   "codemirror_mode": {
    "name": "ipython",
    "version": 3
   },
   "file_extension": ".py",
   "mimetype": "text/x-python",
   "name": "python",
   "nbconvert_exporter": "python",
   "pygments_lexer": "ipython3",
   "version": "3.9.13"
  }
 },
 "nbformat": 4,
 "nbformat_minor": 5
}
